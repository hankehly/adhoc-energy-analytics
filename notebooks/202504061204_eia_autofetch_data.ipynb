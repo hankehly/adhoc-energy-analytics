{
 "cells": [
  {
   "cell_type": "code",
   "execution_count": null,
   "metadata": {},
   "outputs": [],
   "source": [
    "import re\n",
    "from pathlib import Path\n",
    "from urllib.parse import urljoin\n",
    "\n",
    "import requests\n",
    "from bs4 import BeautifulSoup\n",
    "from tqdm import tqdm\n",
    "\n",
    "from adhoc_energy_analytics.constants import RAW_DATA_DIR\n",
    "\n",
    "\n",
    "def get_default_download_dir():\n",
    "    return RAW_DATA_DIR\n",
    "\n",
    "\n",
    "class EIAWholesaleElectricityMarketDataDownloader:\n",
    "    \"\"\"\n",
    "    A class to download annual CSV wholesale electricity market data from the EIA website.\n",
    "    The class fetches the webpage, extracts links to CSV files (ending with a 4-digit year),\n",
    "    and downloads them to a specified directory.\n",
    "    \"\"\"\n",
    "\n",
    "    def __init__(\n",
    "        self,\n",
    "        url=\"https://www.eia.gov/electricity/wholesalemarkets/data.php\",\n",
    "        download_dir=None,\n",
    "    ):\n",
    "        self.url = url\n",
    "        self.pattern = re.compile(r\".*\\d{4}\\.csv$\")  # Targets annual CSV files\n",
    "        directory = (\n",
    "            download_dir if download_dir is not None else get_default_download_dir()\n",
    "        )\n",
    "        self.download_dir = Path(directory)\n",
    "        self.download_dir.mkdir(parents=True, exist_ok=True)\n",
    "\n",
    "    def fetch_page(self):\n",
    "        response = requests.get(self.url)\n",
    "        if response.status_code == 200:\n",
    "            return BeautifulSoup(response.text, \"html.parser\")\n",
    "        print(f\"Failed to retrieve the webpage. Status code: {response.status_code}\")\n",
    "        return None\n",
    "\n",
    "    def extract_links(self, soup):\n",
    "        links = soup.find_all(\"a\")\n",
    "        return [\n",
    "            link.get(\"href\")\n",
    "            for link in links\n",
    "            if link.get(\"href\") and self.pattern.match(link.get(\"href\"))\n",
    "        ]\n",
    "\n",
    "    def download_files(self):\n",
    "        soup = self.fetch_page()\n",
    "        if not soup:\n",
    "            return\n",
    "\n",
    "        all_links = self.extract_links(soup)\n",
    "        for link in tqdm(all_links, desc=\"Downloading files\"):\n",
    "            file_url = urljoin(self.url, link)\n",
    "            file_name = Path(link).name\n",
    "            file_response = requests.get(file_url)\n",
    "            if file_response.status_code == 200:\n",
    "                file_path = self.download_dir / file_name\n",
    "                file_path.write_bytes(file_response.content)\n",
    "            else:\n",
    "                print(f\"Failed to download {file_url}\")"
   ]
  },
  {
   "cell_type": "code",
   "execution_count": null,
   "metadata": {},
   "outputs": [
    {
     "name": "stderr",
     "output_type": "stream",
     "text": [
      "Downloading files:  35%|███▌      | 126/356 [02:49<05:17,  1.38s/it]"
     ]
    }
   ],
   "source": [
    "downloader = EIAWholesaleElectricityMarketDataDownloader()\n",
    "downloader.download_files()"
   ]
  }
 ],
 "metadata": {
  "kernelspec": {
   "display_name": ".venv",
   "language": "python",
   "name": "python3"
  },
  "language_info": {
   "codemirror_mode": {
    "name": "ipython",
    "version": 3
   },
   "file_extension": ".py",
   "mimetype": "text/x-python",
   "name": "python",
   "nbconvert_exporter": "python",
   "pygments_lexer": "ipython3",
   "version": "3.12.7"
  }
 },
 "nbformat": 4,
 "nbformat_minor": 2
}
