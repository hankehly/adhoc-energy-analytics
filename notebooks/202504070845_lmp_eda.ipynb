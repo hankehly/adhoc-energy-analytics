{
 "cells": [
  {
   "cell_type": "code",
   "execution_count": null,
   "id": "70140688",
   "metadata": {},
   "outputs": [
    {
     "name": "stdout",
     "output_type": "stream",
     "text": [
      "36816\n"
     ]
    },
    {
     "data": {
      "text/plain": [
       "np.int64(5)"
      ]
     },
     "execution_count": 16,
     "metadata": {},
     "output_type": "execute_result"
    }
   ],
   "source": [
    "import datetime\n",
    "import glob\n",
    "\n",
    "import pandas as pd\n",
    "\n",
    "from adhoc_energy_analytics.constants import RAW_DATA_DIR\n",
    "\n",
    "pd.set_option(\"display.max_columns\", 100)\n",
    "pd.set_option(\"display.max_rows\", 200)\n",
    "\n",
    "datetime_cols = [\n",
    "    \"UTC Timestamp (Interval Ending)\",\n",
    "    \"Local Timestamp Central Time (Interval Beginning)\",\n",
    "    \"Local Timestamp Central Time (Interval Ending)\",\n",
    "    \"Local Date\",\n",
    "]\n",
    "\n",
    "# Get a list of all files matching the pattern\n",
    "df_file_list = glob.glob(f\"{RAW_DATA_DIR}/spp_lmp_da_hr_interfaces_*.csv\")\n",
    "\n",
    "# Read all files into a single dataframe\n",
    "df_list = [\n",
    "    pd.read_csv(file, skiprows=3, parse_dates=datetime_cols) for file in df_file_list\n",
    "]\n",
    "df = pd.concat(df_list, ignore_index=True)\n",
    "\n",
    "# Trim spaces from column names\n",
    "df.columns = df.columns.str.strip()\n",
    "\n",
    "# Set index to datetime\n",
    "df.set_index(\"Local Timestamp Central Time (Interval Beginning)\", inplace=True)\n",
    "\n",
    "# Drop index duplicates (daylight savings)\n",
    "df = df[~df.index.duplicated(keep=\"first\")]\n",
    "\n",
    "# Create a new index starting from the minimum date and ending at the maximum date\n",
    "new_index = pd.date_range(start=df.index.min(), end=df.index.max(), freq=\"h\")\n",
    "\n",
    "# Reindex the dataframe\n",
    "df = df.reindex(new_index)\n",
    "\n",
    "# Remove all dates where there is no local data for all 24 hours\n",
    "null_hourly_value_counts = (\n",
    "    df[df[\"Lamar LMP\"].isna()].index.normalize().value_counts(sort=False)\n",
    ")\n",
    "null_dates = null_hourly_value_counts[null_hourly_value_counts == 24].index.to_numpy()\n",
    "df = df[~df.index.normalize().isin(null_dates)]\n",
    "\n",
    "# # Fill missing values with linear interpolation\n",
    "# columns_to_fill = [\n",
    "# ]\n",
    "# df[columns_to_fill] = df[columns_to_fill].interpolate(\n",
    "#     method=\"linear\", limit_direction=\"both\"\n",
    "# )\n",
    "\n",
    "print(len(df))\n",
    "df.isna()[\"Lamar LMP\"].sum()"
   ]
  },
  {
   "cell_type": "code",
   "execution_count": 22,
   "id": "f7d4d16a",
   "metadata": {},
   "outputs": [
    {
     "data": {
      "text/html": [
       "<div>\n",
       "<style scoped>\n",
       "    .dataframe tbody tr th:only-of-type {\n",
       "        vertical-align: middle;\n",
       "    }\n",
       "\n",
       "    .dataframe tbody tr th {\n",
       "        vertical-align: top;\n",
       "    }\n",
       "\n",
       "    .dataframe thead th {\n",
       "        text-align: right;\n",
       "    }\n",
       "</style>\n",
       "<table border=\"1\" class=\"dataframe\">\n",
       "  <thead>\n",
       "    <tr style=\"text-align: right;\">\n",
       "      <th></th>\n",
       "      <th>Lamar LMP</th>\n",
       "      <th>Lamar (Congestion)</th>\n",
       "      <th>Lamar (Energy)</th>\n",
       "      <th>Lamar (Loss)</th>\n",
       "    </tr>\n",
       "  </thead>\n",
       "  <tbody>\n",
       "    <tr>\n",
       "      <th>Lamar LMP</th>\n",
       "      <td>1.00</td>\n",
       "      <td>0.19</td>\n",
       "      <td>1.00</td>\n",
       "      <td>-0.83</td>\n",
       "    </tr>\n",
       "    <tr>\n",
       "      <th>Lamar (Congestion)</th>\n",
       "      <td>0.19</td>\n",
       "      <td>1.00</td>\n",
       "      <td>0.11</td>\n",
       "      <td>-0.03</td>\n",
       "    </tr>\n",
       "    <tr>\n",
       "      <th>Lamar (Energy)</th>\n",
       "      <td>1.00</td>\n",
       "      <td>0.11</td>\n",
       "      <td>1.00</td>\n",
       "      <td>-0.85</td>\n",
       "    </tr>\n",
       "    <tr>\n",
       "      <th>Lamar (Loss)</th>\n",
       "      <td>-0.83</td>\n",
       "      <td>-0.03</td>\n",
       "      <td>-0.85</td>\n",
       "      <td>1.00</td>\n",
       "    </tr>\n",
       "  </tbody>\n",
       "</table>\n",
       "</div>"
      ],
      "text/plain": [
       "                    Lamar LMP  Lamar (Congestion)  Lamar (Energy)  \\\n",
       "Lamar LMP                1.00                0.19            1.00   \n",
       "Lamar (Congestion)       0.19                1.00            0.11   \n",
       "Lamar (Energy)           1.00                0.11            1.00   \n",
       "Lamar (Loss)            -0.83               -0.03           -0.85   \n",
       "\n",
       "                    Lamar (Loss)  \n",
       "Lamar LMP                  -0.83  \n",
       "Lamar (Congestion)         -0.03  \n",
       "Lamar (Energy)             -0.85  \n",
       "Lamar (Loss)                1.00  "
      ]
     },
     "execution_count": 22,
     "metadata": {},
     "output_type": "execute_result"
    }
   ],
   "source": [
    "df[[\"Lamar LMP\", \"Lamar (Congestion)\", \"Lamar (Energy)\", \"Lamar (Loss)\"]].corr().round(2)"
   ]
  }
 ],
 "metadata": {
  "kernelspec": {
   "display_name": ".venv",
   "language": "python",
   "name": "python3"
  },
  "language_info": {
   "codemirror_mode": {
    "name": "ipython",
    "version": 3
   },
   "file_extension": ".py",
   "mimetype": "text/x-python",
   "name": "python",
   "nbconvert_exporter": "python",
   "pygments_lexer": "ipython3",
   "version": "3.12.7"
  }
 },
 "nbformat": 4,
 "nbformat_minor": 5
}
